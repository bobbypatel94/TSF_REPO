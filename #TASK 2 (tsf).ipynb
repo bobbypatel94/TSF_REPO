{
 "cells": [
  {
   "cell_type": "markdown",
   "metadata": {},
   "source": [
    "# TO EXPLORE SUPERVISED MACHINE LEARNING"
   ]
  },
  {
   "cell_type": "markdown",
   "metadata": {},
   "source": [
    "### In this regression task we will predict the percentage of marks that a student is expected to score based upon the number of hours they studied"
   ]
  },
  {
   "cell_type": "code",
   "execution_count": 27,
   "metadata": {},
   "outputs": [],
   "source": [
    "#importing libraries\n",
    "import pandas as pd\n",
    "import numpy as np\n",
    "import scipy as sc\n",
    "import matplotlib.pyplot as plt\n",
    "import seaborn as sns\n",
    "plt.style.use(\"ggplot\")"
   ]
  },
  {
   "cell_type": "code",
   "execution_count": 28,
   "metadata": {},
   "outputs": [],
   "source": [
    "#importing data\n",
    "data=pd.read_csv(\"http://bit.ly/w-data\")"
   ]
  },
  {
   "cell_type": "code",
   "execution_count": 29,
   "metadata": {},
   "outputs": [
    {
     "data": {
      "text/html": [
       "<style  type=\"text/css\" >\n",
       "    #T_f022b1f0_dbeb_11ea_9fae_107d1a3d145drow0_col0 {\n",
       "            background-color:  #daf0d4;\n",
       "            color:  #000000;\n",
       "        }    #T_f022b1f0_dbeb_11ea_9fae_107d1a3d145drow0_col1 {\n",
       "            background-color:  #f0f9ec;\n",
       "            color:  #000000;\n",
       "        }    #T_f022b1f0_dbeb_11ea_9fae_107d1a3d145drow1_col0 {\n",
       "            background-color:  #76c578;\n",
       "            color:  #000000;\n",
       "        }    #T_f022b1f0_dbeb_11ea_9fae_107d1a3d145drow1_col1 {\n",
       "            background-color:  #9ed798;\n",
       "            color:  #000000;\n",
       "        }    #T_f022b1f0_dbeb_11ea_9fae_107d1a3d145drow2_col0 {\n",
       "            background-color:  #c4e8bd;\n",
       "            color:  #000000;\n",
       "        }    #T_f022b1f0_dbeb_11ea_9fae_107d1a3d145drow2_col1 {\n",
       "            background-color:  #e5f5e0;\n",
       "            color:  #000000;\n",
       "        }    #T_f022b1f0_dbeb_11ea_9fae_107d1a3d145drow3_col0 {\n",
       "            background-color:  #006027;\n",
       "            color:  #f1f1f1;\n",
       "        }    #T_f022b1f0_dbeb_11ea_9fae_107d1a3d145drow3_col1 {\n",
       "            background-color:  #248c46;\n",
       "            color:  #000000;\n",
       "        }    #T_f022b1f0_dbeb_11ea_9fae_107d1a3d145drow4_col0 {\n",
       "            background-color:  #bae3b3;\n",
       "            color:  #000000;\n",
       "        }    #T_f022b1f0_dbeb_11ea_9fae_107d1a3d145drow4_col1 {\n",
       "            background-color:  #dbf1d6;\n",
       "            color:  #000000;\n",
       "        }    #T_f022b1f0_dbeb_11ea_9fae_107d1a3d145drow5_col0 {\n",
       "            background-color:  #f0f9ed;\n",
       "            color:  #000000;\n",
       "        }    #T_f022b1f0_dbeb_11ea_9fae_107d1a3d145drow5_col1 {\n",
       "            background-color:  #f2faef;\n",
       "            color:  #000000;\n",
       "        }    #T_f022b1f0_dbeb_11ea_9fae_107d1a3d145drow6_col0 {\n",
       "            background-color:  #00441b;\n",
       "            color:  #f1f1f1;\n",
       "        }    #T_f022b1f0_dbeb_11ea_9fae_107d1a3d145drow6_col1 {\n",
       "            background-color:  #006027;\n",
       "            color:  #f1f1f1;\n",
       "        }    #T_f022b1f0_dbeb_11ea_9fae_107d1a3d145drow7_col0 {\n",
       "            background-color:  #62bb6d;\n",
       "            color:  #000000;\n",
       "        }    #T_f022b1f0_dbeb_11ea_9fae_107d1a3d145drow7_col1 {\n",
       "            background-color:  #5eb96b;\n",
       "            color:  #000000;\n",
       "        }    #T_f022b1f0_dbeb_11ea_9fae_107d1a3d145drow8_col0 {\n",
       "            background-color:  #00682a;\n",
       "            color:  #f1f1f1;\n",
       "        }    #T_f022b1f0_dbeb_11ea_9fae_107d1a3d145drow8_col1 {\n",
       "            background-color:  #0e7936;\n",
       "            color:  #f1f1f1;\n",
       "        }    #T_f022b1f0_dbeb_11ea_9fae_107d1a3d145drow9_col0 {\n",
       "            background-color:  #d4eece;\n",
       "            color:  #000000;\n",
       "        }    #T_f022b1f0_dbeb_11ea_9fae_107d1a3d145drow9_col1 {\n",
       "            background-color:  #e8f6e4;\n",
       "            color:  #000000;\n",
       "        }    #T_f022b1f0_dbeb_11ea_9fae_107d1a3d145drow10_col0 {\n",
       "            background-color:  #117b38;\n",
       "            color:  #f1f1f1;\n",
       "        }    #T_f022b1f0_dbeb_11ea_9fae_107d1a3d145drow10_col1 {\n",
       "            background-color:  #006d2c;\n",
       "            color:  #f1f1f1;\n",
       "        }    #T_f022b1f0_dbeb_11ea_9fae_107d1a3d145drow11_col0 {\n",
       "            background-color:  #4eb264;\n",
       "            color:  #000000;\n",
       "        }    #T_f022b1f0_dbeb_11ea_9fae_107d1a3d145drow11_col1 {\n",
       "            background-color:  #55b567;\n",
       "            color:  #000000;\n",
       "        }    #T_f022b1f0_dbeb_11ea_9fae_107d1a3d145drow12_col0 {\n",
       "            background-color:  #91d28e;\n",
       "            color:  #000000;\n",
       "        }    #T_f022b1f0_dbeb_11ea_9fae_107d1a3d145drow12_col1 {\n",
       "            background-color:  #b6e2af;\n",
       "            color:  #000000;\n",
       "        }    #T_f022b1f0_dbeb_11ea_9fae_107d1a3d145drow13_col0 {\n",
       "            background-color:  #c1e6ba;\n",
       "            color:  #000000;\n",
       "        }    #T_f022b1f0_dbeb_11ea_9fae_107d1a3d145drow13_col1 {\n",
       "            background-color:  #b1e0ab;\n",
       "            color:  #000000;\n",
       "        }    #T_f022b1f0_dbeb_11ea_9fae_107d1a3d145drow14_col0 {\n",
       "            background-color:  #f7fcf5;\n",
       "            color:  #000000;\n",
       "        }    #T_f022b1f0_dbeb_11ea_9fae_107d1a3d145drow14_col1 {\n",
       "            background-color:  #f7fcf5;\n",
       "            color:  #000000;\n",
       "        }    #T_f022b1f0_dbeb_11ea_9fae_107d1a3d145drow15_col0 {\n",
       "            background-color:  #005020;\n",
       "            color:  #f1f1f1;\n",
       "        }    #T_f022b1f0_dbeb_11ea_9fae_107d1a3d145drow15_col1 {\n",
       "            background-color:  #00441b;\n",
       "            color:  #f1f1f1;\n",
       "        }    #T_f022b1f0_dbeb_11ea_9fae_107d1a3d145drow16_col0 {\n",
       "            background-color:  #daf0d4;\n",
       "            color:  #000000;\n",
       "        }    #T_f022b1f0_dbeb_11ea_9fae_107d1a3d145drow16_col1 {\n",
       "            background-color:  #dbf1d6;\n",
       "            color:  #000000;\n",
       "        }    #T_f022b1f0_dbeb_11ea_9fae_107d1a3d145drow17_col0 {\n",
       "            background-color:  #e9f7e5;\n",
       "            color:  #000000;\n",
       "        }    #T_f022b1f0_dbeb_11ea_9fae_107d1a3d145drow17_col1 {\n",
       "            background-color:  #ebf7e7;\n",
       "            color:  #000000;\n",
       "        }    #T_f022b1f0_dbeb_11ea_9fae_107d1a3d145drow18_col0 {\n",
       "            background-color:  #43ac5e;\n",
       "            color:  #000000;\n",
       "        }    #T_f022b1f0_dbeb_11ea_9fae_107d1a3d145drow18_col1 {\n",
       "            background-color:  #3da65a;\n",
       "            color:  #000000;\n",
       "        }    #T_f022b1f0_dbeb_11ea_9fae_107d1a3d145drow19_col0 {\n",
       "            background-color:  #1a843f;\n",
       "            color:  #000000;\n",
       "        }    #T_f022b1f0_dbeb_11ea_9fae_107d1a3d145drow19_col1 {\n",
       "            background-color:  #37a055;\n",
       "            color:  #000000;\n",
       "        }    #T_f022b1f0_dbeb_11ea_9fae_107d1a3d145drow20_col0 {\n",
       "            background-color:  #d4eece;\n",
       "            color:  #000000;\n",
       "        }    #T_f022b1f0_dbeb_11ea_9fae_107d1a3d145drow20_col1 {\n",
       "            background-color:  #dbf1d6;\n",
       "            color:  #000000;\n",
       "        }    #T_f022b1f0_dbeb_11ea_9fae_107d1a3d145drow21_col0 {\n",
       "            background-color:  #84cc83;\n",
       "            color:  #000000;\n",
       "        }    #T_f022b1f0_dbeb_11ea_9fae_107d1a3d145drow21_col1 {\n",
       "            background-color:  #7dc87e;\n",
       "            color:  #000000;\n",
       "        }    #T_f022b1f0_dbeb_11ea_9fae_107d1a3d145drow22_col0 {\n",
       "            background-color:  #aedea7;\n",
       "            color:  #000000;\n",
       "        }    #T_f022b1f0_dbeb_11ea_9fae_107d1a3d145drow22_col1 {\n",
       "            background-color:  #cbebc5;\n",
       "            color:  #000000;\n",
       "        }    #T_f022b1f0_dbeb_11ea_9fae_107d1a3d145drow23_col0 {\n",
       "            background-color:  #2b934b;\n",
       "            color:  #000000;\n",
       "        }    #T_f022b1f0_dbeb_11ea_9fae_107d1a3d145drow23_col1 {\n",
       "            background-color:  #218944;\n",
       "            color:  #000000;\n",
       "        }    #T_f022b1f0_dbeb_11ea_9fae_107d1a3d145drow24_col0 {\n",
       "            background-color:  #0d7836;\n",
       "            color:  #f1f1f1;\n",
       "        }    #T_f022b1f0_dbeb_11ea_9fae_107d1a3d145drow24_col1 {\n",
       "            background-color:  #00692a;\n",
       "            color:  #f1f1f1;\n",
       "        }</style><table id=\"T_f022b1f0_dbeb_11ea_9fae_107d1a3d145d\" ><thead>    <tr>        <th class=\"blank level0\" ></th>        <th class=\"col_heading level0 col0\" >Hours</th>        <th class=\"col_heading level0 col1\" >Scores</th>    </tr></thead><tbody>\n",
       "                <tr>\n",
       "                        <th id=\"T_f022b1f0_dbeb_11ea_9fae_107d1a3d145dlevel0_row0\" class=\"row_heading level0 row0\" >0</th>\n",
       "                        <td id=\"T_f022b1f0_dbeb_11ea_9fae_107d1a3d145drow0_col0\" class=\"data row0 col0\" >2.500000</td>\n",
       "                        <td id=\"T_f022b1f0_dbeb_11ea_9fae_107d1a3d145drow0_col1\" class=\"data row0 col1\" >21</td>\n",
       "            </tr>\n",
       "            <tr>\n",
       "                        <th id=\"T_f022b1f0_dbeb_11ea_9fae_107d1a3d145dlevel0_row1\" class=\"row_heading level0 row1\" >1</th>\n",
       "                        <td id=\"T_f022b1f0_dbeb_11ea_9fae_107d1a3d145drow1_col0\" class=\"data row1 col0\" >5.100000</td>\n",
       "                        <td id=\"T_f022b1f0_dbeb_11ea_9fae_107d1a3d145drow1_col1\" class=\"data row1 col1\" >47</td>\n",
       "            </tr>\n",
       "            <tr>\n",
       "                        <th id=\"T_f022b1f0_dbeb_11ea_9fae_107d1a3d145dlevel0_row2\" class=\"row_heading level0 row2\" >2</th>\n",
       "                        <td id=\"T_f022b1f0_dbeb_11ea_9fae_107d1a3d145drow2_col0\" class=\"data row2 col0\" >3.200000</td>\n",
       "                        <td id=\"T_f022b1f0_dbeb_11ea_9fae_107d1a3d145drow2_col1\" class=\"data row2 col1\" >27</td>\n",
       "            </tr>\n",
       "            <tr>\n",
       "                        <th id=\"T_f022b1f0_dbeb_11ea_9fae_107d1a3d145dlevel0_row3\" class=\"row_heading level0 row3\" >3</th>\n",
       "                        <td id=\"T_f022b1f0_dbeb_11ea_9fae_107d1a3d145drow3_col0\" class=\"data row3 col0\" >8.500000</td>\n",
       "                        <td id=\"T_f022b1f0_dbeb_11ea_9fae_107d1a3d145drow3_col1\" class=\"data row3 col1\" >75</td>\n",
       "            </tr>\n",
       "            <tr>\n",
       "                        <th id=\"T_f022b1f0_dbeb_11ea_9fae_107d1a3d145dlevel0_row4\" class=\"row_heading level0 row4\" >4</th>\n",
       "                        <td id=\"T_f022b1f0_dbeb_11ea_9fae_107d1a3d145drow4_col0\" class=\"data row4 col0\" >3.500000</td>\n",
       "                        <td id=\"T_f022b1f0_dbeb_11ea_9fae_107d1a3d145drow4_col1\" class=\"data row4 col1\" >30</td>\n",
       "            </tr>\n",
       "            <tr>\n",
       "                        <th id=\"T_f022b1f0_dbeb_11ea_9fae_107d1a3d145dlevel0_row5\" class=\"row_heading level0 row5\" >5</th>\n",
       "                        <td id=\"T_f022b1f0_dbeb_11ea_9fae_107d1a3d145drow5_col0\" class=\"data row5 col0\" >1.500000</td>\n",
       "                        <td id=\"T_f022b1f0_dbeb_11ea_9fae_107d1a3d145drow5_col1\" class=\"data row5 col1\" >20</td>\n",
       "            </tr>\n",
       "            <tr>\n",
       "                        <th id=\"T_f022b1f0_dbeb_11ea_9fae_107d1a3d145dlevel0_row6\" class=\"row_heading level0 row6\" >6</th>\n",
       "                        <td id=\"T_f022b1f0_dbeb_11ea_9fae_107d1a3d145drow6_col0\" class=\"data row6 col0\" >9.200000</td>\n",
       "                        <td id=\"T_f022b1f0_dbeb_11ea_9fae_107d1a3d145drow6_col1\" class=\"data row6 col1\" >88</td>\n",
       "            </tr>\n",
       "            <tr>\n",
       "                        <th id=\"T_f022b1f0_dbeb_11ea_9fae_107d1a3d145dlevel0_row7\" class=\"row_heading level0 row7\" >7</th>\n",
       "                        <td id=\"T_f022b1f0_dbeb_11ea_9fae_107d1a3d145drow7_col0\" class=\"data row7 col0\" >5.500000</td>\n",
       "                        <td id=\"T_f022b1f0_dbeb_11ea_9fae_107d1a3d145drow7_col1\" class=\"data row7 col1\" >60</td>\n",
       "            </tr>\n",
       "            <tr>\n",
       "                        <th id=\"T_f022b1f0_dbeb_11ea_9fae_107d1a3d145dlevel0_row8\" class=\"row_heading level0 row8\" >8</th>\n",
       "                        <td id=\"T_f022b1f0_dbeb_11ea_9fae_107d1a3d145drow8_col0\" class=\"data row8 col0\" >8.300000</td>\n",
       "                        <td id=\"T_f022b1f0_dbeb_11ea_9fae_107d1a3d145drow8_col1\" class=\"data row8 col1\" >81</td>\n",
       "            </tr>\n",
       "            <tr>\n",
       "                        <th id=\"T_f022b1f0_dbeb_11ea_9fae_107d1a3d145dlevel0_row9\" class=\"row_heading level0 row9\" >9</th>\n",
       "                        <td id=\"T_f022b1f0_dbeb_11ea_9fae_107d1a3d145drow9_col0\" class=\"data row9 col0\" >2.700000</td>\n",
       "                        <td id=\"T_f022b1f0_dbeb_11ea_9fae_107d1a3d145drow9_col1\" class=\"data row9 col1\" >25</td>\n",
       "            </tr>\n",
       "            <tr>\n",
       "                        <th id=\"T_f022b1f0_dbeb_11ea_9fae_107d1a3d145dlevel0_row10\" class=\"row_heading level0 row10\" >10</th>\n",
       "                        <td id=\"T_f022b1f0_dbeb_11ea_9fae_107d1a3d145drow10_col0\" class=\"data row10 col0\" >7.700000</td>\n",
       "                        <td id=\"T_f022b1f0_dbeb_11ea_9fae_107d1a3d145drow10_col1\" class=\"data row10 col1\" >85</td>\n",
       "            </tr>\n",
       "            <tr>\n",
       "                        <th id=\"T_f022b1f0_dbeb_11ea_9fae_107d1a3d145dlevel0_row11\" class=\"row_heading level0 row11\" >11</th>\n",
       "                        <td id=\"T_f022b1f0_dbeb_11ea_9fae_107d1a3d145drow11_col0\" class=\"data row11 col0\" >5.900000</td>\n",
       "                        <td id=\"T_f022b1f0_dbeb_11ea_9fae_107d1a3d145drow11_col1\" class=\"data row11 col1\" >62</td>\n",
       "            </tr>\n",
       "            <tr>\n",
       "                        <th id=\"T_f022b1f0_dbeb_11ea_9fae_107d1a3d145dlevel0_row12\" class=\"row_heading level0 row12\" >12</th>\n",
       "                        <td id=\"T_f022b1f0_dbeb_11ea_9fae_107d1a3d145drow12_col0\" class=\"data row12 col0\" >4.500000</td>\n",
       "                        <td id=\"T_f022b1f0_dbeb_11ea_9fae_107d1a3d145drow12_col1\" class=\"data row12 col1\" >41</td>\n",
       "            </tr>\n",
       "            <tr>\n",
       "                        <th id=\"T_f022b1f0_dbeb_11ea_9fae_107d1a3d145dlevel0_row13\" class=\"row_heading level0 row13\" >13</th>\n",
       "                        <td id=\"T_f022b1f0_dbeb_11ea_9fae_107d1a3d145drow13_col0\" class=\"data row13 col0\" >3.300000</td>\n",
       "                        <td id=\"T_f022b1f0_dbeb_11ea_9fae_107d1a3d145drow13_col1\" class=\"data row13 col1\" >42</td>\n",
       "            </tr>\n",
       "            <tr>\n",
       "                        <th id=\"T_f022b1f0_dbeb_11ea_9fae_107d1a3d145dlevel0_row14\" class=\"row_heading level0 row14\" >14</th>\n",
       "                        <td id=\"T_f022b1f0_dbeb_11ea_9fae_107d1a3d145drow14_col0\" class=\"data row14 col0\" >1.100000</td>\n",
       "                        <td id=\"T_f022b1f0_dbeb_11ea_9fae_107d1a3d145drow14_col1\" class=\"data row14 col1\" >17</td>\n",
       "            </tr>\n",
       "            <tr>\n",
       "                        <th id=\"T_f022b1f0_dbeb_11ea_9fae_107d1a3d145dlevel0_row15\" class=\"row_heading level0 row15\" >15</th>\n",
       "                        <td id=\"T_f022b1f0_dbeb_11ea_9fae_107d1a3d145drow15_col0\" class=\"data row15 col0\" >8.900000</td>\n",
       "                        <td id=\"T_f022b1f0_dbeb_11ea_9fae_107d1a3d145drow15_col1\" class=\"data row15 col1\" >95</td>\n",
       "            </tr>\n",
       "            <tr>\n",
       "                        <th id=\"T_f022b1f0_dbeb_11ea_9fae_107d1a3d145dlevel0_row16\" class=\"row_heading level0 row16\" >16</th>\n",
       "                        <td id=\"T_f022b1f0_dbeb_11ea_9fae_107d1a3d145drow16_col0\" class=\"data row16 col0\" >2.500000</td>\n",
       "                        <td id=\"T_f022b1f0_dbeb_11ea_9fae_107d1a3d145drow16_col1\" class=\"data row16 col1\" >30</td>\n",
       "            </tr>\n",
       "            <tr>\n",
       "                        <th id=\"T_f022b1f0_dbeb_11ea_9fae_107d1a3d145dlevel0_row17\" class=\"row_heading level0 row17\" >17</th>\n",
       "                        <td id=\"T_f022b1f0_dbeb_11ea_9fae_107d1a3d145drow17_col0\" class=\"data row17 col0\" >1.900000</td>\n",
       "                        <td id=\"T_f022b1f0_dbeb_11ea_9fae_107d1a3d145drow17_col1\" class=\"data row17 col1\" >24</td>\n",
       "            </tr>\n",
       "            <tr>\n",
       "                        <th id=\"T_f022b1f0_dbeb_11ea_9fae_107d1a3d145dlevel0_row18\" class=\"row_heading level0 row18\" >18</th>\n",
       "                        <td id=\"T_f022b1f0_dbeb_11ea_9fae_107d1a3d145drow18_col0\" class=\"data row18 col0\" >6.100000</td>\n",
       "                        <td id=\"T_f022b1f0_dbeb_11ea_9fae_107d1a3d145drow18_col1\" class=\"data row18 col1\" >67</td>\n",
       "            </tr>\n",
       "            <tr>\n",
       "                        <th id=\"T_f022b1f0_dbeb_11ea_9fae_107d1a3d145dlevel0_row19\" class=\"row_heading level0 row19\" >19</th>\n",
       "                        <td id=\"T_f022b1f0_dbeb_11ea_9fae_107d1a3d145drow19_col0\" class=\"data row19 col0\" >7.400000</td>\n",
       "                        <td id=\"T_f022b1f0_dbeb_11ea_9fae_107d1a3d145drow19_col1\" class=\"data row19 col1\" >69</td>\n",
       "            </tr>\n",
       "            <tr>\n",
       "                        <th id=\"T_f022b1f0_dbeb_11ea_9fae_107d1a3d145dlevel0_row20\" class=\"row_heading level0 row20\" >20</th>\n",
       "                        <td id=\"T_f022b1f0_dbeb_11ea_9fae_107d1a3d145drow20_col0\" class=\"data row20 col0\" >2.700000</td>\n",
       "                        <td id=\"T_f022b1f0_dbeb_11ea_9fae_107d1a3d145drow20_col1\" class=\"data row20 col1\" >30</td>\n",
       "            </tr>\n",
       "            <tr>\n",
       "                        <th id=\"T_f022b1f0_dbeb_11ea_9fae_107d1a3d145dlevel0_row21\" class=\"row_heading level0 row21\" >21</th>\n",
       "                        <td id=\"T_f022b1f0_dbeb_11ea_9fae_107d1a3d145drow21_col0\" class=\"data row21 col0\" >4.800000</td>\n",
       "                        <td id=\"T_f022b1f0_dbeb_11ea_9fae_107d1a3d145drow21_col1\" class=\"data row21 col1\" >54</td>\n",
       "            </tr>\n",
       "            <tr>\n",
       "                        <th id=\"T_f022b1f0_dbeb_11ea_9fae_107d1a3d145dlevel0_row22\" class=\"row_heading level0 row22\" >22</th>\n",
       "                        <td id=\"T_f022b1f0_dbeb_11ea_9fae_107d1a3d145drow22_col0\" class=\"data row22 col0\" >3.800000</td>\n",
       "                        <td id=\"T_f022b1f0_dbeb_11ea_9fae_107d1a3d145drow22_col1\" class=\"data row22 col1\" >35</td>\n",
       "            </tr>\n",
       "            <tr>\n",
       "                        <th id=\"T_f022b1f0_dbeb_11ea_9fae_107d1a3d145dlevel0_row23\" class=\"row_heading level0 row23\" >23</th>\n",
       "                        <td id=\"T_f022b1f0_dbeb_11ea_9fae_107d1a3d145drow23_col0\" class=\"data row23 col0\" >6.900000</td>\n",
       "                        <td id=\"T_f022b1f0_dbeb_11ea_9fae_107d1a3d145drow23_col1\" class=\"data row23 col1\" >76</td>\n",
       "            </tr>\n",
       "            <tr>\n",
       "                        <th id=\"T_f022b1f0_dbeb_11ea_9fae_107d1a3d145dlevel0_row24\" class=\"row_heading level0 row24\" >24</th>\n",
       "                        <td id=\"T_f022b1f0_dbeb_11ea_9fae_107d1a3d145drow24_col0\" class=\"data row24 col0\" >7.800000</td>\n",
       "                        <td id=\"T_f022b1f0_dbeb_11ea_9fae_107d1a3d145drow24_col1\" class=\"data row24 col1\" >86</td>\n",
       "            </tr>\n",
       "    </tbody></table>"
      ],
      "text/plain": [
       "<pandas.io.formats.style.Styler at 0x2095d3ebb08>"
      ]
     },
     "execution_count": 29,
     "metadata": {},
     "output_type": "execute_result"
    }
   ],
   "source": [
    "#whole dataset\n",
    "data.style.background_gradient(\"Greens\")"
   ]
  },
  {
   "cell_type": "code",
   "execution_count": 30,
   "metadata": {},
   "outputs": [
    {
     "name": "stdout",
     "output_type": "stream",
     "text": [
      "<class 'pandas.core.frame.DataFrame'>\n",
      "RangeIndex: 25 entries, 0 to 24\n",
      "Data columns (total 2 columns):\n",
      " #   Column  Non-Null Count  Dtype  \n",
      "---  ------  --------------  -----  \n",
      " 0   Hours   25 non-null     float64\n",
      " 1   Scores  25 non-null     int64  \n",
      "dtypes: float64(1), int64(1)\n",
      "memory usage: 528.0 bytes\n"
     ]
    }
   ],
   "source": [
    "data.info() #it shows dataframe does not contain any null value.\n",
    "#also this shows that dataframe does not have an object datatype data."
   ]
  },
  {
   "cell_type": "code",
   "execution_count": 31,
   "metadata": {},
   "outputs": [
    {
     "data": {
      "text/html": [
       "<div>\n",
       "<style scoped>\n",
       "    .dataframe tbody tr th:only-of-type {\n",
       "        vertical-align: middle;\n",
       "    }\n",
       "\n",
       "    .dataframe tbody tr th {\n",
       "        vertical-align: top;\n",
       "    }\n",
       "\n",
       "    .dataframe thead th {\n",
       "        text-align: right;\n",
       "    }\n",
       "</style>\n",
       "<table border=\"1\" class=\"dataframe\">\n",
       "  <thead>\n",
       "    <tr style=\"text-align: right;\">\n",
       "      <th></th>\n",
       "      <th>Hours</th>\n",
       "      <th>Scores</th>\n",
       "    </tr>\n",
       "  </thead>\n",
       "  <tbody>\n",
       "    <tr>\n",
       "      <th>count</th>\n",
       "      <td>25.000000</td>\n",
       "      <td>25.000000</td>\n",
       "    </tr>\n",
       "    <tr>\n",
       "      <th>mean</th>\n",
       "      <td>5.012000</td>\n",
       "      <td>51.480000</td>\n",
       "    </tr>\n",
       "    <tr>\n",
       "      <th>std</th>\n",
       "      <td>2.525094</td>\n",
       "      <td>25.286887</td>\n",
       "    </tr>\n",
       "    <tr>\n",
       "      <th>min</th>\n",
       "      <td>1.100000</td>\n",
       "      <td>17.000000</td>\n",
       "    </tr>\n",
       "    <tr>\n",
       "      <th>25%</th>\n",
       "      <td>2.700000</td>\n",
       "      <td>30.000000</td>\n",
       "    </tr>\n",
       "    <tr>\n",
       "      <th>50%</th>\n",
       "      <td>4.800000</td>\n",
       "      <td>47.000000</td>\n",
       "    </tr>\n",
       "    <tr>\n",
       "      <th>75%</th>\n",
       "      <td>7.400000</td>\n",
       "      <td>75.000000</td>\n",
       "    </tr>\n",
       "    <tr>\n",
       "      <th>max</th>\n",
       "      <td>9.200000</td>\n",
       "      <td>95.000000</td>\n",
       "    </tr>\n",
       "  </tbody>\n",
       "</table>\n",
       "</div>"
      ],
      "text/plain": [
       "           Hours     Scores\n",
       "count  25.000000  25.000000\n",
       "mean    5.012000  51.480000\n",
       "std     2.525094  25.286887\n",
       "min     1.100000  17.000000\n",
       "25%     2.700000  30.000000\n",
       "50%     4.800000  47.000000\n",
       "75%     7.400000  75.000000\n",
       "max     9.200000  95.000000"
      ]
     },
     "execution_count": 31,
     "metadata": {},
     "output_type": "execute_result"
    }
   ],
   "source": [
    "#descriptive statistics of data\n",
    "data.describe()"
   ]
  },
  {
   "cell_type": "markdown",
   "metadata": {},
   "source": [
    "##  to find correlation between features of data.(i.e \"Hours\" and \"Scores\")"
   ]
  },
  {
   "cell_type": "markdown",
   "metadata": {},
   "source": [
    "#### we use pearson correlation way"
   ]
  },
  {
   "cell_type": "code",
   "execution_count": 32,
   "metadata": {},
   "outputs": [],
   "source": [
    "x=data[[\"Hours\"]]\n",
    "y=data[[\"Scores\"]]"
   ]
  },
  {
   "cell_type": "code",
   "execution_count": 33,
   "metadata": {},
   "outputs": [
    {
     "name": "stdout",
     "output_type": "stream",
     "text": [
      "pearson correlation:0.9761906560220884\n",
      "p-value:9.132624467460325e-17\n"
     ]
    }
   ],
   "source": [
    "from scipy import stats\n",
    "pearson_coef,p_value=stats.pearsonr(data[\"Hours\"],data[\"Scores\"])\n",
    "print(\"pearson correlation:{}\".format(pearson_coef))\n",
    "print(\"p-value:{}\".format(p_value))"
   ]
  },
  {
   "cell_type": "markdown",
   "metadata": {},
   "source": [
    "from the pearson correlation value and p-value, it is clear that features have strong correlation"
   ]
  },
  {
   "cell_type": "markdown",
   "metadata": {},
   "source": [
    "## Let's visualize features to support the pearson correlation "
   ]
  },
  {
   "cell_type": "code",
   "execution_count": 41,
   "metadata": {},
   "outputs": [
    {
     "data": {
      "text/plain": [
       "Text(0, 0.5, 'Scores')"
      ]
     },
     "execution_count": 41,
     "metadata": {},
     "output_type": "execute_result"
    },
    {
     "data": {
      "image/png": "[encoded data removed]",
      "text/plain": [
       "<Figure size 432x288 with 1 Axes>"
      ]
     },
     "metadata": {},
     "output_type": "display_data"
    }
   ],
   "source": [
    "plt.scatter(x,y,marker=\"X\",color=\"c\")\n",
    "plt.title(\"correlation between features\")\n",
    "plt.xlabel(\"Hours\")\n",
    "plt.ylabel(\"Scores\")\n"
   ]
  },
  {
   "cell_type": "markdown",
   "metadata": {},
   "source": [
    "plot shows that there is positive relation between features."
   ]
  },
  {
   "cell_type": "markdown",
   "metadata": {},
   "source": [
    "### training of data and model evaluation"
   ]
  },
  {
   "cell_type": "code",
   "execution_count": 35,
   "metadata": {},
   "outputs": [],
   "source": [
    "#splitting of data\n",
    "from sklearn.model_selection import train_test_split\n",
    "x_train,x_test,y_train,y_test=train_test_split(x,y,test_size=0.25,shuffle=True,random_state=42)"
   ]
  },
  {
   "cell_type": "code",
   "execution_count": 36,
   "metadata": {},
   "outputs": [],
   "source": [
    "# training of model using linear regression\n",
    "from sklearn.linear_model import LinearRegression\n",
    "lin_reg=LinearRegression()\n",
    "lin_reg.fit(x_train,y_train)\n",
    "prediction=lin_reg.predict(x_test)"
   ]
  },
  {
   "cell_type": "code",
   "execution_count": 37,
   "metadata": {},
   "outputs": [
    {
     "name": "stdout",
     "output_type": "stream",
     "text": [
      "mean_squared_error:23.516396034595225\n",
      "mean_absolute_error:4.425394675156183\n",
      "R-squared value:0.9553509219739938\n"
     ]
    }
   ],
   "source": [
    "#performing model evaluation \n",
    "from sklearn.metrics import mean_squared_error\n",
    "from sklearn.metrics import mean_absolute_error\n",
    "print(\"mean_squared_error:{}\".format(mean_squared_error(y_test,prediction)))\n",
    "print(\"mean_absolute_error:{}\".format(mean_absolute_error(y_test,prediction)))\n",
    "print(\"R-squared value:{}\".format(lin_reg.score(x_test,y_test)))"
   ]
  },
  {
   "cell_type": "markdown",
   "metadata": {},
   "source": [
    "##### let's compare visually predicted value and actual value."
   ]
  },
  {
   "cell_type": "code",
   "execution_count": 38,
   "metadata": {},
   "outputs": [
    {
     "data": {
      "text/plain": [
       "<matplotlib.axes._subplots.AxesSubplot at 0x2095d48a808>"
      ]
     },
     "execution_count": 38,
     "metadata": {},
     "output_type": "execute_result"
    },
    {
     "data": {
      "image/png": "[encoded data removed]",
      "text/plain": [
       "<Figure size 432x288 with 1 Axes>"
      ]
     },
     "metadata": {},
     "output_type": "display_data"
    }
   ],
   "source": [
    "ax1=sns.distplot(y_test,hist=False,color=\"r\",label=\"Actual value\")\n",
    "sns.distplot(prediction,hist=False,color=\"c\",label=\"predicted value\",ax=ax1)"
   ]
  },
  {
   "cell_type": "markdown",
   "metadata": {},
   "source": [
    "from the results we can say that our model is fitted well."
   ]
  },
  {
   "cell_type": "markdown",
   "metadata": {},
   "source": [
    "## let's plot regression line to visualize trend line in data."
   ]
  },
  {
   "cell_type": "code",
   "execution_count": 43,
   "metadata": {},
   "outputs": [
    {
     "data": {
      "text/plain": [
       "Text(0.5, 1.0, 'Regression line')"
      ]
     },
     "execution_count": 43,
     "metadata": {},
     "output_type": "execute_result"
    },
    {
     "data": {
      "image/png": "[encoded data removed]",
      "text/plain": [
       "<Figure size 432x288 with 1 Axes>"
      ]
     },
     "metadata": {},
     "output_type": "display_data"
    }
   ],
   "source": [
    "line=lin_reg.intercept_+(lin_reg.coef_*x)\n",
    "ax1=plt.plot(x,lin_reg.predict(x))\n",
    "plt.scatter(x,y,marker=\"x\",color=\"c\")\n",
    "plt.xlabel(\"Hours\")\n",
    "plt.ylabel(\"Scores\")\n",
    "plt.title(\"Regression line\")"
   ]
  },
  {
   "cell_type": "markdown",
   "metadata": {},
   "source": [
    "### predicting percentage score if student studied for 9.25 hours. "
   ]
  },
  {
   "cell_type": "code",
   "execution_count": 40,
   "metadata": {},
   "outputs": [
    {
     "name": "stdout",
     "output_type": "stream",
     "text": [
      "Percent Score:[92.33571987]\n"
     ]
    }
   ],
   "source": [
    "score=lin_reg.predict([[9.25]])\n",
    "print(\"Percent Score:{}\".format(score[0]))"
   ]
  },
  {
   "cell_type": "code",
   "execution_count": null,
   "metadata": {},
   "outputs": [],
   "source": []
  }
 ],
 "metadata": {
  "kernelspec": {
   "display_name": "Python 3",
   "language": "python",
   "name": "python3"
  },
  "language_info": {
   "codemirror_mode": {
    "name": "ipython",
    "version": 3
   },
   "file_extension": ".py",
   "mimetype": "text/x-python",
   "name": "python",
   "nbconvert_exporter": "python",
   "pygments_lexer": "ipython3",
   "version": "3.7.6"
  }
 },
 "nbformat": 4,
 "nbformat_minor": 4
}
